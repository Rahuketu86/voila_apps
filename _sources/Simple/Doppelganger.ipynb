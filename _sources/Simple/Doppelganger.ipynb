{
 "cells": [
  {
   "cell_type": "markdown",
   "metadata": {
    "ExecuteTime": {
     "end_time": "2020-10-18T11:14:21.784945Z",
     "start_time": "2020-10-18T11:14:21.782710Z"
    }
   },
   "source": [
    "# Doppelganger"
   ]
  },
  {
   "cell_type": "markdown",
   "metadata": {
    "ExecuteTime": {
     "end_time": "2020-10-18T10:15:11.830932Z",
     "start_time": "2020-10-18T10:15:11.827860Z"
    },
    "tags": [
     "voila-remove"
    ]
   },
   "source": [
    "\n",
    "\n",
    "[![Voilla](https://raw.githubusercontent.com/Rahuketu86/voila_dashboards/main/badge_viola_logo.svg)](https://mybinder.org/v2/gh/Rahuketu86/voila_env/main?urlpath=git-pull%3Frepo%3Dhttps%253A%252F%252Fgithub.com%252FRahuketu86%252Fvoila_apps%26urlpath%3Dvoila%252Ftree%252Fvoila_apps%252Fbook%252FSimple%252FDoppelganger.ipynb%26branch%3Dmaster)\n",
    "\n",
    "\n",
    "\n",
    "[![Binder](https://mybinder.org/badge_logo.svg)](https://mybinder.org/v2/gh/Rahuketu86/voila_env/main?urlpath=git-pull%3Frepo%3Dhttps%253A%252F%252Fgithub.com%252FRahuketu86%252Fvoila_apps%26urlpath%3Dtree%252Fvoila_apps%252Fbook%252F%252FSimple%252FDoppelganger.ipynb%26branch%3Dmaster)"
   ]
  },
  {
   "cell_type": "markdown",
   "metadata": {
    "ExecuteTime": {
     "end_time": "2020-10-18T10:17:13.895580Z",
     "start_time": "2020-10-18T10:17:13.891351Z"
    }
   },
   "source": [
    "Upload Picture of Doppelganger and let system recognize who is who\n",
    "\n",
    "1. Sarah Shahi vs Mercedes_Masohn \n",
    "2. Brad Pitt vs Benicio del toro\n",
    "3. Javiar Bardem vs Jeffery Dean Morgan\n",
    "\n",
    "---"
   ]
  },
  {
   "cell_type": "code",
   "execution_count": 22,
   "metadata": {
    "ExecuteTime": {
     "end_time": "2020-10-18T11:14:34.896210Z",
     "start_time": "2020-10-18T11:14:34.893285Z"
    }
   },
   "outputs": [],
   "source": [
    "import ipywidgets as widgets\n",
    "import PIL\n",
    "from PIL import Image\n",
    "from fastai.vision.all import *"
   ]
  },
  {
   "cell_type": "code",
   "execution_count": 23,
   "metadata": {
    "ExecuteTime": {
     "end_time": "2020-10-18T11:14:35.091633Z",
     "start_time": "2020-10-18T11:14:35.083999Z"
    }
   },
   "outputs": [],
   "source": [
    "widget_upload = widgets.FileUpload()"
   ]
  },
  {
   "cell_type": "code",
   "execution_count": 24,
   "metadata": {
    "ExecuteTime": {
     "end_time": "2020-10-18T11:14:35.272555Z",
     "start_time": "2020-10-18T11:14:35.268638Z"
    },
    "tags": [
     "voila-remove"
    ]
   },
   "outputs": [
    {
     "data": {
      "application/vnd.jupyter.widget-view+json": {
       "model_id": "33ac3193349344bf8f31be970aa1d7a8",
       "version_major": 2,
       "version_minor": 0
      },
      "text/plain": [
       "FileUpload(value={}, description='Upload')"
      ]
     },
     "metadata": {},
     "output_type": "display_data"
    }
   ],
   "source": [
    "widget_upload"
   ]
  },
  {
   "cell_type": "code",
   "execution_count": 25,
   "metadata": {
    "ExecuteTime": {
     "end_time": "2020-10-18T11:14:35.469256Z",
     "start_time": "2020-10-18T11:14:35.422841Z"
    },
    "code_folding": [],
    "tags": [
     "voila-remove"
    ]
   },
   "outputs": [
    {
     "data": {
      "image/png": "[encoded data removed]",
      "text/plain": [
       "<PIL.Image.Image image mode=RGB size=98x128 at 0x7F9CA952ED30>"
      ]
     },
     "metadata": {},
     "output_type": "display_data"
    }
   ],
   "source": [
    "img = None\n",
    "if len(widget_upload.data):\n",
    "    img = PILImage.create(widget_upload.data[-1])\n",
    "    \n",
    "else:\n",
    "    img = PILImage.create(\"../Models/Doppelganger/Sarah_Shahi.jpg\")\n",
    "display(img.to_thumb(128,128)) "
   ]
  },
  {
   "cell_type": "code",
   "execution_count": 26,
   "metadata": {
    "ExecuteTime": {
     "end_time": "2020-10-18T11:14:35.610687Z",
     "start_time": "2020-10-18T11:14:35.604901Z"
    }
   },
   "outputs": [],
   "source": [
    "\n",
    "widget_out = widgets.Output()"
   ]
  },
  {
   "cell_type": "code",
   "execution_count": 27,
   "metadata": {
    "ExecuteTime": {
     "end_time": "2020-10-18T11:14:35.793635Z",
     "start_time": "2020-10-18T11:14:35.789917Z"
    },
    "tags": [
     "voila-remove"
    ]
   },
   "outputs": [
    {
     "data": {
      "application/vnd.jupyter.widget-view+json": {
       "model_id": "bd72a2940c7b4b2fb36f19d1a6fc8df1",
       "version_major": 2,
       "version_minor": 0
      },
      "text/plain": [
       "Output()"
      ]
     },
     "metadata": {},
     "output_type": "display_data"
    }
   ],
   "source": [
    "widget_out"
   ]
  },
  {
   "cell_type": "code",
   "execution_count": 28,
   "metadata": {
    "ExecuteTime": {
     "end_time": "2020-10-18T11:14:35.963390Z",
     "start_time": "2020-10-18T11:14:35.949094Z"
    },
    "tags": [
     "voila-remove"
    ]
   },
   "outputs": [],
   "source": [
    "with widget_out: display(img.to_thumb(128,128))"
   ]
  },
  {
   "cell_type": "code",
   "execution_count": 29,
   "metadata": {
    "ExecuteTime": {
     "end_time": "2020-10-18T11:14:36.344070Z",
     "start_time": "2020-10-18T11:14:36.336999Z"
    }
   },
   "outputs": [],
   "source": [
    "widget_label = widgets.Label()"
   ]
  },
  {
   "cell_type": "code",
   "execution_count": 30,
   "metadata": {
    "ExecuteTime": {
     "end_time": "2020-10-18T11:14:36.583103Z",
     "start_time": "2020-10-18T11:14:36.579264Z"
    },
    "tags": [
     "voila-remove"
    ]
   },
   "outputs": [
    {
     "data": {
      "application/vnd.jupyter.widget-view+json": {
       "model_id": "0e2d26111eda4c3c87f5f8c9f1ac451b",
       "version_major": 2,
       "version_minor": 0
      },
      "text/plain": [
       "Label(value='')"
      ]
     },
     "metadata": {},
     "output_type": "display_data"
    }
   ],
   "source": [
    "widget_label"
   ]
  },
  {
   "cell_type": "code",
   "execution_count": 31,
   "metadata": {
    "ExecuteTime": {
     "end_time": "2020-10-18T11:14:36.815517Z",
     "start_time": "2020-10-18T11:14:36.812905Z"
    }
   },
   "outputs": [],
   "source": [
    "widget_label.value = \"Please Upload Photo\""
   ]
  },
  {
   "cell_type": "code",
   "execution_count": 32,
   "metadata": {
    "ExecuteTime": {
     "end_time": "2020-10-18T11:14:37.696204Z",
     "start_time": "2020-10-18T11:14:37.339205Z"
    }
   },
   "outputs": [],
   "source": [
    "learn_inf = load_learner(fname = \"../Models/Doppelganger/DoppelGanger.pkl\")"
   ]
  },
  {
   "cell_type": "code",
   "execution_count": 33,
   "metadata": {
    "ExecuteTime": {
     "end_time": "2020-10-18T11:14:37.855886Z",
     "start_time": "2020-10-18T11:14:37.732079Z"
    },
    "tags": [
     "voila-remove"
    ]
   },
   "outputs": [
    {
     "name": "stdout",
     "output_type": "stream",
     "text": [
      "DoppelGanger.pkl  Sarah_Shahi.jpg\r\n"
     ]
    }
   ],
   "source": [
    "! ls  ../Models/Doppelganger"
   ]
  },
  {
   "cell_type": "code",
   "execution_count": 34,
   "metadata": {
    "ExecuteTime": {
     "end_time": "2020-10-18T11:14:37.952314Z",
     "start_time": "2020-10-18T11:14:37.892941Z"
    },
    "tags": [
     "voila-remove"
    ]
   },
   "outputs": [
    {
     "data": {
      "text/html": [],
      "text/plain": [
       "<IPython.core.display.HTML object>"
      ]
     },
     "metadata": {},
     "output_type": "display_data"
    }
   ],
   "source": [
    "pred, idx, probs = learn_inf.predict(img)\n",
    "widget_label.value = f\"Actor: {pred} with probability {probs[idx]:0.4f}\""
   ]
  },
  {
   "cell_type": "code",
   "execution_count": 35,
   "metadata": {
    "ExecuteTime": {
     "end_time": "2020-10-18T11:14:37.990918Z",
     "start_time": "2020-10-18T11:14:37.987518Z"
    }
   },
   "outputs": [],
   "source": [
    "def on_data_change(change):\n",
    "    widget_label.value = \"\"\n",
    "    img = PILImage.create(widget_upload.data[-1])\n",
    "    widget_out.clear_output()\n",
    "    with widget_out: display(img.to_thumb(128,128))\n",
    "    pred, idx, probs = learn_inf.predict(img)\n",
    "    widget_label.value = f\"Actor: {pred} with probability {probs[idx]:0.4f}\""
   ]
  },
  {
   "cell_type": "code",
   "execution_count": 36,
   "metadata": {
    "ExecuteTime": {
     "end_time": "2020-10-18T11:14:40.798742Z",
     "start_time": "2020-10-18T11:14:40.796190Z"
    }
   },
   "outputs": [],
   "source": [
    "widget_upload.observe(on_data_change, names=['data'])"
   ]
  },
  {
   "cell_type": "code",
   "execution_count": 37,
   "metadata": {
    "ExecuteTime": {
     "end_time": "2020-10-18T11:14:41.000939Z",
     "start_time": "2020-10-18T11:14:40.985924Z"
    }
   },
   "outputs": [
    {
     "data": {
      "application/vnd.jupyter.widget-view+json": {
       "model_id": "3268a9878ed1486293dde1c16daf5fd0",
       "version_major": 2,
       "version_minor": 0
      },
      "text/plain": [
       "VBox(children=(Label(value='Awesome, Doppelganger Predictor'), Label(value='Actor: Sarah_Shahi with probabilit…"
      ]
     },
     "metadata": {},
     "output_type": "display_data"
    }
   ],
   "source": [
    "widgets.VBox([widgets.Label(\"Awesome, Doppelganger Predictor\"), widget_label, widget_out, widget_upload])"
   ]
  },
  {
   "cell_type": "code",
   "execution_count": null,
   "metadata": {},
   "outputs": [],
   "source": []
  },
  {
   "cell_type": "code",
   "execution_count": null,
   "metadata": {},
   "outputs": [],
   "source": []
  },
  {
   "cell_type": "code",
   "execution_count": null,
   "metadata": {},
   "outputs": [],
   "source": []
  }
 ],
 "metadata": {
  "celltoolbar": "Tags",
  "hide_input": false,
  "kernelspec": {
   "display_name": "Python 3",
   "language": "python",
   "name": "python3"
  },
  "language_info": {
   "codemirror_mode": {
    "name": "ipython",
    "version": 3
   },
   "file_extension": ".py",
   "mimetype": "text/x-python",
   "name": "python",
   "nbconvert_exporter": "python",
   "pygments_lexer": "ipython3",
   "version": "3.8.6"
  },
  "latex_envs": {
   "LaTeX_envs_menu_present": true,
   "autoclose": false,
   "autocomplete": true,
   "bibliofile": "biblio.bib",
   "cite_by": "apalike",
   "current_citInitial": 1,
   "eqLabelWithNumbers": true,
   "eqNumInitial": 1,
   "hotkeys": {
    "equation": "Ctrl-E",
    "itemize": "Ctrl-I"
   },
   "labels_anchors": false,
   "latex_user_defs": false,
   "report_style_numbering": false,
   "user_envs_cfg": false
  },
  "toc": {
   "base_numbering": 1,
   "nav_menu": {},
   "number_sections": true,
   "sideBar": true,
   "skip_h1_title": false,
   "title_cell": "Table of Contents",
   "title_sidebar": "Contents",
   "toc_cell": false,
   "toc_position": {},
   "toc_section_display": true,
   "toc_window_display": false
  },
  "varInspector": {
   "cols": {
    "lenName": 16,
    "lenType": 16,
    "lenVar": 40
   },
   "kernels_config": {
    "python": {
     "delete_cmd_postfix": "",
     "delete_cmd_prefix": "del ",
     "library": "var_list.py",
     "varRefreshCmd": "print(var_dic_list())"
    },
    "r": {
     "delete_cmd_postfix": ") ",
     "delete_cmd_prefix": "rm(",
     "library": "var_list.r",
     "varRefreshCmd": "cat(var_dic_list()) "
    }
   },
   "types_to_exclude": [
    "module",
    "function",
    "builtin_function_or_method",
    "instance",
    "_Feature"
   ],
   "window_display": false
  }
 },
 "nbformat": 4,
 "nbformat_minor": 4
}
